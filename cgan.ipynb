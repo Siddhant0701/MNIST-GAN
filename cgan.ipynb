{
 "cells": [
  {
   "attachments": {},
   "cell_type": "markdown",
   "metadata": {},
   "source": [
    "## Import libraries"
   ]
  },
  {
   "cell_type": "code",
   "execution_count": 2,
   "metadata": {},
   "outputs": [],
   "source": [
    "import tensorflow as tf\n",
    "import matplotlib.pyplot as plt\n",
    "import numpy as np\n",
    "import os\n",
    "import PIL\n",
    "from tensorflow.keras import layers\n",
    "import time"
   ]
  },
  {
   "attachments": {},
   "cell_type": "markdown",
   "metadata": {},
   "source": [
    "## MNIST Dataset"
   ]
  },
  {
   "cell_type": "code",
   "execution_count": 3,
   "metadata": {},
   "outputs": [],
   "source": [
    "(train_images, train_labels), (_, _) = tf.keras.datasets.mnist.load_data()"
   ]
  },
  {
   "cell_type": "code",
   "execution_count": 4,
   "metadata": {},
   "outputs": [],
   "source": [
    "train_images = train_images.reshape(train_images.shape[0], 28, 28, 1).astype('float32')\n",
    "train_images = (train_images - 127.5) / 127.5  # Normalize the images to [-1, 1]"
   ]
  },
  {
   "attachments": {},
   "cell_type": "markdown",
   "metadata": {},
   "source": [
    "## Hyperparameters"
   ]
  },
  {
   "cell_type": "code",
   "execution_count": 5,
   "metadata": {},
   "outputs": [],
   "source": [
    "BATCH_SIZE = 256\n",
    "EPOCHS = 5000\n",
    "NOISE_DIM = 100\n",
    "TRAIN_RATIO = 5\n",
    "INTERVAL = 200"
   ]
  },
  {
   "attachments": {},
   "cell_type": "markdown",
   "metadata": {},
   "source": [
    "## Models"
   ]
  },
  {
   "attachments": {},
   "cell_type": "markdown",
   "metadata": {},
   "source": [
    "### Generator"
   ]
  },
  {
   "cell_type": "code",
   "execution_count": 6,
   "metadata": {},
   "outputs": [],
   "source": [
    "def make_generator_model():\n",
    "    model = tf.keras.Sequential()\n",
    "\n",
    "    ## Layers\n",
    "    model.add(layers.Dense(7*7*256, use_bias=False, input_dim=100))\n",
    "    model.add(layers.BatchNormalization())\n",
    "    model.add(layers.LeakyReLU())\n",
    "\n",
    "    model.add(layers.Reshape((7, 7, 256)))\n",
    "    model.add(layers.Conv2DTranspose(128, (5, 5), strides=(1, 1), padding='same', use_bias=False))\n",
    "    model.add(layers.BatchNormalization())\n",
    "    model.add(layers.LeakyReLU())\n",
    "\n",
    "    model.add(layers.Conv2DTranspose(64, (5, 5), strides=(2, 2), padding='same', use_bias=False))\n",
    "    model.add(layers.BatchNormalization())\n",
    "    model.add(layers.LeakyReLU())\n",
    "\n",
    "    model.add(layers.Conv2DTranspose(1, (5, 5), strides=(2, 2), padding='same', use_bias=False, activation='tanh'))\n",
    "\n",
    "    ## Inputs\n",
    "    noise = tf.keras.Input(shape=(NOISE_DIM,))\n",
    "    label = tf.keras.Input(shape=(1,), dtype='int32')\n",
    "    label_embedding = layers.Flatten()(layers.Embedding(10, 100)(label))\n",
    "\n",
    "    ## Concatenate noise and label\n",
    "    model_input = layers.multiply([noise, label_embedding])\n",
    "\n",
    "    ## Output\n",
    "    image = model(model_input)\n",
    "\n",
    "    return tf.keras.Model([noise, label], image)"
   ]
  },
  {
   "cell_type": "code",
   "execution_count": 7,
   "metadata": {},
   "outputs": [
    {
     "data": {
      "text/plain": [
       "<matplotlib.image.AxesImage at 0x20f865ab2b0>"
      ]
     },
     "execution_count": 7,
     "metadata": {},
     "output_type": "execute_result"
    },
    {
     "data": {
      "image/png": "[encoded data removed]",
      "text/plain": [
       "<Figure size 432x288 with 1 Axes>"
      ]
     },
     "metadata": {
      "needs_background": "light"
     },
     "output_type": "display_data"
    }
   ],
   "source": [
    "generator = make_generator_model()\n",
    "\n",
    "noise = tf.random.normal([1, 100])\n",
    "label = tf.random.uniform([1], minval=0, maxval=9, dtype=tf.int32)\n",
    "generated_image = generator([noise, label], training=False)\n",
    "\n",
    "plt.imshow(generated_image[0, :, :, 0], cmap='gray')"
   ]
  },
  {
   "cell_type": "code",
   "execution_count": 8,
   "metadata": {},
   "outputs": [
    {
     "name": "stdout",
     "output_type": "stream",
     "text": [
      "Model: \"model\"\n",
      "__________________________________________________________________________________________________\n",
      " Layer (type)                   Output Shape         Param #     Connected to                     \n",
      "==================================================================================================\n",
      " input_2 (InputLayer)           [(None, 1)]          0           []                               \n",
      "                                                                                                  \n",
      " embedding (Embedding)          (None, 1, 100)       1000        ['input_2[0][0]']                \n",
      "                                                                                                  \n",
      " input_1 (InputLayer)           [(None, 100)]        0           []                               \n",
      "                                                                                                  \n",
      " flatten (Flatten)              (None, 100)          0           ['embedding[0][0]']              \n",
      "                                                                                                  \n",
      " multiply (Multiply)            (None, 100)          0           ['input_1[0][0]',                \n",
      "                                                                  'flatten[0][0]']                \n",
      "                                                                                                  \n",
      " sequential (Sequential)        (None, 28, 28, 1)    2330944     ['multiply[0][0]']               \n",
      "                                                                                                  \n",
      "==================================================================================================\n",
      "Total params: 2,331,944\n",
      "Trainable params: 2,306,472\n",
      "Non-trainable params: 25,472\n",
      "__________________________________________________________________________________________________\n"
     ]
    }
   ],
   "source": [
    "generator.summary()"
   ]
  },
  {
   "attachments": {},
   "cell_type": "markdown",
   "metadata": {},
   "source": [
    "### Discriminator"
   ]
  },
  {
   "cell_type": "code",
   "execution_count": 9,
   "metadata": {},
   "outputs": [],
   "source": [
    "def make_discriminator_model():\n",
    "    model = tf.keras.Sequential()\n",
    "\n",
    "    ##Layers\n",
    "    model.add(layers.Reshape((28, 28, 1), input_shape=(784,)))\n",
    "    \n",
    "    model.add(layers.Conv2D(64, (5, 5), strides=(2, 2), padding='same'))\n",
    "    model.add(layers.LeakyReLU())\n",
    "    model.add(layers.Dropout(0.3))\n",
    "\n",
    "    model.add(layers.Conv2D(128, (5, 5), strides=(2, 2), padding='same'))\n",
    "    model.add(layers.LeakyReLU())\n",
    "    model.add(layers.Dropout(0.3))\n",
    "\n",
    "    model.add(layers.Flatten())\n",
    "    model.add(layers.Dense(1, activation='sigmoid'))\n",
    "\n",
    "    ## Inputs\n",
    "    image = tf.keras.Input(shape=(28,28,1))\n",
    "    flat_img = layers.Flatten()(image)\n",
    "\n",
    "    label = tf.keras.Input(shape=(1,), dtype='int32')\n",
    "    label_embedding = layers.Flatten()(layers.Embedding(10, 784)(label))\n",
    "\n",
    "    model_input = layers.multiply([flat_img, label_embedding])\n",
    "\n",
    "    ## Output\n",
    "    validity = model(model_input)\n",
    "\n",
    "    return tf.keras.Model([image,label], validity)"
   ]
  },
  {
   "cell_type": "code",
   "execution_count": 10,
   "metadata": {},
   "outputs": [
    {
     "name": "stdout",
     "output_type": "stream",
     "text": [
      "tf.Tensor([[0.50000066]], shape=(1, 1), dtype=float32)\n"
     ]
    }
   ],
   "source": [
    "discriminator = make_discriminator_model()\n",
    "decision = discriminator([generated_image, label])\n",
    "print (decision)"
   ]
  },
  {
   "cell_type": "code",
   "execution_count": 11,
   "metadata": {},
   "outputs": [
    {
     "name": "stdout",
     "output_type": "stream",
     "text": [
      "Model: \"model_1\"\n",
      "__________________________________________________________________________________________________\n",
      " Layer (type)                   Output Shape         Param #     Connected to                     \n",
      "==================================================================================================\n",
      " input_4 (InputLayer)           [(None, 1)]          0           []                               \n",
      "                                                                                                  \n",
      " input_3 (InputLayer)           [(None, 28, 28, 1)]  0           []                               \n",
      "                                                                                                  \n",
      " embedding_1 (Embedding)        (None, 1, 784)       7840        ['input_4[0][0]']                \n",
      "                                                                                                  \n",
      " flatten_2 (Flatten)            (None, 784)          0           ['input_3[0][0]']                \n",
      "                                                                                                  \n",
      " flatten_3 (Flatten)            (None, 784)          0           ['embedding_1[0][0]']            \n",
      "                                                                                                  \n",
      " multiply_1 (Multiply)          (None, 784)          0           ['flatten_2[0][0]',              \n",
      "                                                                  'flatten_3[0][0]']              \n",
      "                                                                                                  \n",
      " sequential_1 (Sequential)      (None, 1)            212865      ['multiply_1[0][0]']             \n",
      "                                                                                                  \n",
      "==================================================================================================\n",
      "Total params: 220,705\n",
      "Trainable params: 220,705\n",
      "Non-trainable params: 0\n",
      "__________________________________________________________________________________________________\n"
     ]
    }
   ],
   "source": [
    "discriminator.summary()"
   ]
  },
  {
   "attachments": {},
   "cell_type": "markdown",
   "metadata": {},
   "source": [
    "## Utility"
   ]
  },
  {
   "cell_type": "code",
   "execution_count": 12,
   "metadata": {},
   "outputs": [],
   "source": [
    "def sample_images(epoch):\n",
    "    r, c = 2, 5\n",
    "    noise = np.random.normal(0, 1, (r * c, 100))\n",
    "    sampled_labels = np.arange(0, 10).reshape(-1, 1)\n",
    "\n",
    "    gen_imgs = generator.predict([noise, sampled_labels])\n",
    "\n",
    "    # Rescale images 0 - 1\n",
    "    gen_imgs = 0.5 * gen_imgs + 0.5\n",
    "\n",
    "    fig, axs = plt.subplots(r, c)\n",
    "    cnt = 0\n",
    "    for i in range(r):\n",
    "        for j in range(c):\n",
    "            axs[i,j].imshow(gen_imgs[cnt,:,:,0], cmap='gray')\n",
    "            axs[i,j].set_title(\"Digit: %d\" % sampled_labels[cnt])\n",
    "            axs[i,j].axis('off')\n",
    "            cnt += 1\n",
    "    fig.savefig(\"samples/%d.png\" % epoch)\n",
    "    plt.close()"
   ]
  },
  {
   "cell_type": "code",
   "execution_count": 13,
   "metadata": {},
   "outputs": [],
   "source": [
    "def train_ratio(epoch):\n",
    "    if epoch < 1500:\n",
    "        return TRAIN_RATIO\n",
    "    else:\n",
    "        return max(1,TRAIN_RATIO *(0.5)**((epoch-1500)//100))"
   ]
  },
  {
   "attachments": {},
   "cell_type": "markdown",
   "metadata": {},
   "source": [
    "## Loss Functions and Optimizers"
   ]
  },
  {
   "cell_type": "code",
   "execution_count": 14,
   "metadata": {},
   "outputs": [],
   "source": [
    "optimizer = tf.keras.optimizers.Adam(1e-4)\n",
    "loss_object = tf.keras.losses.BinaryCrossentropy()"
   ]
  },
  {
   "cell_type": "code",
   "execution_count": 15,
   "metadata": {},
   "outputs": [],
   "source": [
    "## Discriminator setup\n",
    "discriminator.compile(optimizer=optimizer, loss=loss_object, metrics=['accuracy'])\n",
    "discriminator.trainable = False"
   ]
  },
  {
   "cell_type": "code",
   "execution_count": 16,
   "metadata": {},
   "outputs": [],
   "source": [
    "## Generator setup\n",
    "noise = layers.Input(shape=(NOISE_DIM,))\n",
    "label = layers.Input(shape=(1,), dtype='int32')\n",
    "image = generator([noise, label])\n",
    "\n",
    "## Combined model\n",
    "validity = discriminator([image, label])\n",
    "combined = tf.keras.Model([noise, label], validity)\n",
    "combined.compile(optimizer=optimizer, loss=loss_object)"
   ]
  },
  {
   "attachments": {},
   "cell_type": "markdown",
   "metadata": {},
   "source": [
    "## Training the model"
   ]
  },
  {
   "cell_type": "code",
   "execution_count": 17,
   "metadata": {},
   "outputs": [],
   "source": [
    "real = np.ones((BATCH_SIZE, 1))\n",
    "fake = np.zeros((BATCH_SIZE, 1))\n",
    "\n",
    "discriminator_loss = []\n",
    "generator_loss = []"
   ]
  },
  {
   "cell_type": "code",
   "execution_count": null,
   "metadata": {},
   "outputs": [],
   "source": [
    "for epoch in range(EPOCHS):\n",
    "    \n",
    "    print(f\"----------- Epoch {epoch+1} -----------\")\n",
    "\n",
    "    idx = np.random.randint(0, train_images.shape[0], BATCH_SIZE)\n",
    "    imgs, labels = train_images[idx], train_labels[idx]\n",
    "\n",
    "    noise = np.random.normal(0, 1, (BATCH_SIZE, 100))\n",
    "\n",
    "    if(epoch % train_ratio(epoch+1) == 0):\n",
    "        discriminator.trainable = True\n",
    "    \n",
    "    gen_imgs = generator.predict([noise, labels], verbose=0)\n",
    "\n",
    "    d_loss_real = discriminator.train_on_batch([imgs, labels], real)\n",
    "    d_loss_fake = discriminator.train_on_batch([gen_imgs, labels], fake)\n",
    "    d_loss = 0.5 * np.add(d_loss_real, d_loss_fake)\n",
    "\n",
    "    discriminator_loss.append(d_loss[0])\n",
    "\n",
    "    discriminator.trainable = False\n",
    "\n",
    "    g_loss = combined.train_on_batch([noise, labels], real)\n",
    "\n",
    "    generator_loss.append(g_loss)\n",
    "\n",
    " \n",
    "    print(f\"Discriminator loss: {d_loss[0]}   Accuracy: {d_loss[1]}\")\n",
    "    print(f\"Generator loss: {g_loss}\")\n",
    "    print('---------------------------------------')\n",
    "\n",
    "    if((epoch+1) % INTERVAL==0):\n",
    "        sample_images(epoch+1)\n",
    "\n"
   ]
  },
  {
   "attachments": {},
   "cell_type": "markdown",
   "metadata": {},
   "source": [
    "## Results"
   ]
  },
  {
   "cell_type": "code",
   "execution_count": 22,
   "metadata": {},
   "outputs": [
    {
     "data": {
      "image/png": "[encoded data removed]",
      "text/plain": [
       "<Figure size 720x360 with 1 Axes>"
      ]
     },
     "metadata": {
      "needs_background": "light"
     },
     "output_type": "display_data"
    }
   ],
   "source": [
    "## Plot losses\n",
    "plt.figure(figsize=(10, 5))\n",
    "plt.plot(discriminator_loss, label=\"Discriminator loss\")\n",
    "plt.plot(generator_loss, label=\"Generator loss\")\n",
    "plt.xlabel(\"Epochs\")\n",
    "plt.ylabel(\"Loss\")\n",
    "plt.legend()\n",
    "plt.show()"
   ]
  },
  {
   "attachments": {},
   "cell_type": "markdown",
   "metadata": {},
   "source": [
    "## Saving the model"
   ]
  },
  {
   "cell_type": "code",
   "execution_count": 26,
   "metadata": {},
   "outputs": [
    {
     "name": "stdout",
     "output_type": "stream",
     "text": [
      "WARNING:tensorflow:Compiled the loaded model, but the compiled metrics have yet to be built. `model.compile_metrics` will be empty until you train or evaluate the model.\n"
     ]
    }
   ],
   "source": [
    "generator.save('models/cgan_generator.h5')\n",
    "discriminator.save('models/cgan_discriminator.h5')"
   ]
  },
  {
   "attachments": {},
   "cell_type": "markdown",
   "metadata": {},
   "source": [
    "## Generate Images"
   ]
  },
  {
   "cell_type": "code",
   "execution_count": 3,
   "metadata": {},
   "outputs": [
    {
     "name": "stdout",
     "output_type": "stream",
     "text": [
      "WARNING:tensorflow:No training configuration found in the save file, so the model was *not* compiled. Compile it manually.\n"
     ]
    }
   ],
   "source": [
    "##Genereate images\n",
    "\n",
    "model = tf.keras.models.load_model('models/cgan_generator.h5')"
   ]
  },
  {
   "cell_type": "code",
   "execution_count": 53,
   "metadata": {},
   "outputs": [
    {
     "data": {
      "text/plain": [
       "<matplotlib.image.AxesImage at 0x282629bb7c0>"
      ]
     },
     "execution_count": 53,
     "metadata": {},
     "output_type": "execute_result"
    },
    {
     "data": {
      "image/png": "[encoded data removed]",
      "text/plain": [
       "<Figure size 432x288 with 1 Axes>"
      ]
     },
     "metadata": {
      "needs_background": "light"
     },
     "output_type": "display_data"
    }
   ],
   "source": [
    "##Predict image\n",
    "noise = tf.random.normal([1, 100])\n",
    "digit = 4\n",
    "label = tf.constant([digit])\n",
    "\n",
    "gen_img = model([noise, label])\n",
    "\n",
    "plt.imshow(gen_img[0,:,:,0], cmap='gray')\n"
   ]
  }
 ],
 "metadata": {
  "kernelspec": {
   "display_name": "Python 3",
   "language": "python",
   "name": "python3"
  },
  "language_info": {
   "codemirror_mode": {
    "name": "ipython",
    "version": 3
   },
   "file_extension": ".py",
   "mimetype": "text/x-python",
   "name": "python",
   "nbconvert_exporter": "python",
   "pygments_lexer": "ipython3",
   "version": "3.9.0"
  },
  "orig_nbformat": 4,
  "vscode": {
   "interpreter": {
    "hash": "11938c6bc6919ae2720b4d5011047913343b08a43b18698fd82dedb0d4417594"
   }
  }
 },
 "nbformat": 4,
 "nbformat_minor": 2
}
